{
  "nbformat": 4,
  "nbformat_minor": 0,
  "metadata": {
    "colab": {
      "provenance": [],
      "collapsed_sections": []
    },
    "kernelspec": {
      "name": "python3",
      "display_name": "Python 3"
    },
    "accelerator": "GPU"
  },
  "cells": [
    {
      "cell_type": "code",
      "metadata": {
        "id": "1NnexSIE8NEC"
      },
      "source": [
        "from google.colab import drive\n",
        "drive.mount('/content/drive')"
      ],
      "execution_count": null,
      "outputs": []
    },
    {
      "cell_type": "code",
      "metadata": {
        "id": "WGicchSI83dO"
      },
      "source": [
        "from os import listdir \n",
        "import numpy as np \n",
        "from PIL import Image \n",
        "import tensorflow as tf \n",
        "import keras \n",
        "from keras.applications.vgg19 import VGG19 \n",
        "from sklearn.model_selection import train_test_split \n",
        "from keras.models import load_model "
      ],
      "execution_count": null,
      "outputs": []
    },
    {
      "cell_type": "code",
      "metadata": {
        "id": "chVScm9C9ns9"
      },
      "source": [
        "car_path = '/content/drive/My Drive/CV992/car/'\n",
        "truck_path = '/content/drive/My Drive/CV992/truck/'\n",
        "car_img, truck_img = [], []"
      ],
      "execution_count": null,
      "outputs": []
    },
    {
      "cell_type": "code",
      "metadata": {
        "id": "tQtgPoLl90YI",
        "colab": {
          "base_uri": "https://localhost:8080/"
        },
        "outputId": "abbb56fb-1a0f-48e3-a342-a8364542eab5"
      },
      "source": [
        "\n",
        "for i, each in enumerate(listdir(car_path)):\n",
        "    try:\n",
        "        img= Image.open(car_path + each)\n",
        "        img = img.resize((224, 224))\n",
        "        img= np.array(img) / 255.\n",
        "        if img.shape == (224,224,3):\n",
        "            car_img.append(img)\n",
        "    except:\n",
        "        print(\"ignored loading\", each)\n",
        "print(len(car_img), 'car done')\n",
        "\n",
        "\n",
        "for i, each in enumerate(listdir(truck_path)):\n",
        "    try:\n",
        "        img= Image.open(truck_path + each)\n",
        "        img = img.resize((224, 224))\n",
        "        img= np.array(img) / 255.\n",
        "        if img.shape == (224,224,3):\n",
        "            truck_img.append(img)\n",
        "    except:\n",
        "        print(\"ignored loading\", each)\n",
        "print(len(truck_img), 'truck done')"
      ],
      "execution_count": null,
      "outputs": [
        {
          "output_type": "stream",
          "text": [
            "ignored loading 181535.jpg\n",
            "392 car done\n",
            "396 truck done\n"
          ],
          "name": "stdout"
        }
      ]
    },
    {
      "cell_type": "markdown",
      "metadata": {
        "id": "SZmKKyulE62A"
      },
      "source": []
    },
    {
      "cell_type": "code",
      "metadata": {
        "id": "crNoHoTV-ZqS",
        "colab": {
          "base_uri": "https://localhost:8080/"
        },
        "outputId": "cdf77298-b464-446a-a60d-e10e67dce241"
      },
      "source": [
        "X = car_img + truck_img \n",
        "y = [0] * len(car_img) + [1] * len(truck_img) \n",
        "X_train, X_test, y_train, y_test = train_test_split(X, y, test_size=0.2, shuffle=True) \n",
        "X_test, X_val, y_test, y_val = train_test_split(X_test, y_test, test_size=0.5, shuffle=True) \n",
        "print(len(X_train), len(y_train), len(X_val), len(y_val), len(X_test), len(y_test))"
      ],
      "execution_count": null,
      "outputs": [
        {
          "output_type": "stream",
          "text": [
            "630 630 79 79 79 79\n"
          ],
          "name": "stdout"
        }
      ]
    },
    {
      "cell_type": "code",
      "metadata": {
        "id": "TsjVBRmb-kAc",
        "colab": {
          "base_uri": "https://localhost:8080/"
        },
        "outputId": "d6884deb-2697-4a3a-c149-278535d6d6aa"
      },
      "source": [
        "X_train = np.array(X_train)\n",
        "y_train = np.array(y_train)\n",
        "X_val = np.array(X_val)\n",
        "y_val = np.array(y_val)\n",
        "X_test = np.array(X_test)\n",
        "y_test = np.array(y_test)\n",
        "print('Train :', X_train.shape, y_train.shape) \n",
        "print('Val :', X_val.shape, y_val.shape)\n",
        "print('Test :', X_test.shape, y_test.shape)"
      ],
      "execution_count": null,
      "outputs": [
        {
          "output_type": "stream",
          "text": [
            "Train : (630, 224, 224, 3) (630,)\n",
            "Val : (79, 224, 224, 3) (79,)\n",
            "Test : (79, 224, 224, 3) (79,)\n"
          ],
          "name": "stdout"
        }
      ]
    },
    {
      "cell_type": "code",
      "metadata": {
        "id": "ZE4tTvTh_DYX",
        "colab": {
          "base_uri": "https://localhost:8080/"
        },
        "outputId": "3791cf24-33d9-4e00-f262-ae7b37bfad43"
      },
      "source": [
        "model = VGG19(include_top=False, weights='imagenet', input_shape=(224, 224, 3)) \n",
        "for each_layer in model.layers: \n",
        "    each_layer.trainable = False\n",
        "interaction_output = model.layers[-1].output \n",
        "x = keras.layers.Flatten()(interaction_output) \n",
        "x = keras.layers.Dense(1024, activation=\"relu\")(x) \n",
        "x = keras.layers.Dense(1, activation=\"sigmoid\")(x) \n",
        "model = keras.Model(model.input, x) \n",
        "model.summary() "
      ],
      "execution_count": null,
      "outputs": [
        {
          "output_type": "stream",
          "text": [
            "Downloading data from https://storage.googleapis.com/tensorflow/keras-applications/vgg19/vgg19_weights_tf_dim_ordering_tf_kernels_notop.h5\n",
            "80142336/80134624 [==============================] - 1s 0us/step\n",
            "Model: \"model\"\n",
            "_________________________________________________________________\n",
            "Layer (type)                 Output Shape              Param #   \n",
            "=================================================================\n",
            "input_1 (InputLayer)         [(None, 224, 224, 3)]     0         \n",
            "_________________________________________________________________\n",
            "block1_conv1 (Conv2D)        (None, 224, 224, 64)      1792      \n",
            "_________________________________________________________________\n",
            "block1_conv2 (Conv2D)        (None, 224, 224, 64)      36928     \n",
            "_________________________________________________________________\n",
            "block1_pool (MaxPooling2D)   (None, 112, 112, 64)      0         \n",
            "_________________________________________________________________\n",
            "block2_conv1 (Conv2D)        (None, 112, 112, 128)     73856     \n",
            "_________________________________________________________________\n",
            "block2_conv2 (Conv2D)        (None, 112, 112, 128)     147584    \n",
            "_________________________________________________________________\n",
            "block2_pool (MaxPooling2D)   (None, 56, 56, 128)       0         \n",
            "_________________________________________________________________\n",
            "block3_conv1 (Conv2D)        (None, 56, 56, 256)       295168    \n",
            "_________________________________________________________________\n",
            "block3_conv2 (Conv2D)        (None, 56, 56, 256)       590080    \n",
            "_________________________________________________________________\n",
            "block3_conv3 (Conv2D)        (None, 56, 56, 256)       590080    \n",
            "_________________________________________________________________\n",
            "block3_conv4 (Conv2D)        (None, 56, 56, 256)       590080    \n",
            "_________________________________________________________________\n",
            "block3_pool (MaxPooling2D)   (None, 28, 28, 256)       0         \n",
            "_________________________________________________________________\n",
            "block4_conv1 (Conv2D)        (None, 28, 28, 512)       1180160   \n",
            "_________________________________________________________________\n",
            "block4_conv2 (Conv2D)        (None, 28, 28, 512)       2359808   \n",
            "_________________________________________________________________\n",
            "block4_conv3 (Conv2D)        (None, 28, 28, 512)       2359808   \n",
            "_________________________________________________________________\n",
            "block4_conv4 (Conv2D)        (None, 28, 28, 512)       2359808   \n",
            "_________________________________________________________________\n",
            "block4_pool (MaxPooling2D)   (None, 14, 14, 512)       0         \n",
            "_________________________________________________________________\n",
            "block5_conv1 (Conv2D)        (None, 14, 14, 512)       2359808   \n",
            "_________________________________________________________________\n",
            "block5_conv2 (Conv2D)        (None, 14, 14, 512)       2359808   \n",
            "_________________________________________________________________\n",
            "block5_conv3 (Conv2D)        (None, 14, 14, 512)       2359808   \n",
            "_________________________________________________________________\n",
            "block5_conv4 (Conv2D)        (None, 14, 14, 512)       2359808   \n",
            "_________________________________________________________________\n",
            "block5_pool (MaxPooling2D)   (None, 7, 7, 512)         0         \n",
            "_________________________________________________________________\n",
            "flatten (Flatten)            (None, 25088)             0         \n",
            "_________________________________________________________________\n",
            "dense (Dense)                (None, 1024)              25691136  \n",
            "_________________________________________________________________\n",
            "dense_1 (Dense)              (None, 1)                 1025      \n",
            "=================================================================\n",
            "Total params: 45,716,545\n",
            "Trainable params: 25,692,161\n",
            "Non-trainable params: 20,024,384\n",
            "_________________________________________________________________\n"
          ],
          "name": "stdout"
        }
      ]
    },
    {
      "cell_type": "code",
      "metadata": {
        "id": "Ssow7729_LNd",
        "colab": {
          "base_uri": "https://localhost:8080/"
        },
        "outputId": "a070c0cd-746d-4db0-9776-5aae84ace567"
      },
      "source": [
        "checkpoint = keras.callbacks.ModelCheckpoint(\"/content/drive/My Drive/CV992/model_h.h5\", monitor='val_acc', save_best_only=True, mode='max')\n",
        "model.compile(optimizer=\"adam\", loss=\"binary_crossentropy\", metrics=['accuracy']) \n",
        "model.fit(X_train, y_train, epochs=5, validation_data=(X_val, y_val), batch_size = 16, callbacks=[checkpoint])\n",
        "model.save('/content/drive/My Drive/CV992/model_h.h5')"
      ],
      "execution_count": null,
      "outputs": [
        {
          "output_type": "stream",
          "text": [
            "Epoch 1/5\n",
            "40/40 [==============================] - 4s 96ms/step - loss: 2.7373e-04 - accuracy: 1.0000 - val_loss: 0.8811 - val_accuracy: 0.8608\n",
            "WARNING:tensorflow:Can save best model only with val_acc available, skipping.\n",
            "Epoch 2/5\n",
            "40/40 [==============================] - 4s 91ms/step - loss: 0.0469 - accuracy: 0.9796 - val_loss: 1.2006 - val_accuracy: 0.8481\n",
            "WARNING:tensorflow:Can save best model only with val_acc available, skipping.\n",
            "Epoch 3/5\n",
            "40/40 [==============================] - 4s 91ms/step - loss: 0.0131 - accuracy: 0.9963 - val_loss: 0.7225 - val_accuracy: 0.8734\n",
            "WARNING:tensorflow:Can save best model only with val_acc available, skipping.\n",
            "Epoch 4/5\n",
            "40/40 [==============================] - 4s 91ms/step - loss: 2.3096e-05 - accuracy: 1.0000 - val_loss: 0.6539 - val_accuracy: 0.8734\n",
            "WARNING:tensorflow:Can save best model only with val_acc available, skipping.\n",
            "Epoch 5/5\n",
            "40/40 [==============================] - 4s 91ms/step - loss: 3.6832e-06 - accuracy: 1.0000 - val_loss: 0.6528 - val_accuracy: 0.8734\n",
            "WARNING:tensorflow:Can save best model only with val_acc available, skipping.\n"
          ],
          "name": "stdout"
        }
      ]
    },
    {
      "cell_type": "code",
      "metadata": {
        "id": "XNHciAzV_Yfu"
      },
      "source": [
        "model = load_model('/content/drive/My Drive/CV992/model_h.h5')"
      ],
      "execution_count": null,
      "outputs": []
    },
    {
      "cell_type": "code",
      "metadata": {
        "id": "eMqhnFtO_X8U",
        "colab": {
          "base_uri": "https://localhost:8080/"
        },
        "outputId": "a15d0ac9-559f-4045-8530-bcad9abc219d"
      },
      "source": [
        "_, acc = model.evaluate(X_train, y_train)\n",
        "print('Train Accuracy: %.2f' % (acc*100))\n",
        "_, acc = model.evaluate(X_test, y_test)\n",
        "print('Test Accuracy: %.2f' % (acc*100))"
      ],
      "execution_count": null,
      "outputs": [
        {
          "output_type": "stream",
          "text": [
            "20/20 [==============================] - 3s 140ms/step - loss: 4.0292e-06 - accuracy: 1.0000\n",
            "Train Accuracy: 100.00\n",
            "3/3 [==============================] - 0s 104ms/step - loss: 0.8927 - accuracy: 0.8481\n",
            "Test Accuracy: 84.81\n"
          ],
          "name": "stdout"
        }
      ]
    },
    {
      "cell_type": "code",
      "metadata": {
        "id": "gXXvVpEF_8rZ"
      },
      "source": [
        "def car_truck_classifier(address):\n",
        "    answer = None\n",
        "    try:\n",
        "        img= Image.open(address).convert('RGB')\n",
        "        img = img.resize((224, 224))\n",
        "        img= np.array(img) / 255.\n",
        "        if img.shape == (224,224,3):\n",
        "            prediction = model.predict(np.array([img]))[0][0]\n",
        "            answer = 'Car' if round(prediction) == 0 else 'truck'\n",
        "            answer = 'it is a ' + answer + '!'\n",
        "    except:\n",
        "        print(\"ignored loading\", each)\n",
        "    return answer"
      ],
      "execution_count": null,
      "outputs": []
    },
    {
      "cell_type": "code",
      "metadata": {
        "id": "H51_JxqrAMc3",
        "colab": {
          "base_uri": "https://localhost:8080/"
        },
        "outputId": "98ef6937-5f28-4a41-d017-bcd95c0aae27"
      },
      "source": [
        "test_img_address = 'download.jpg'\n",
        "print(car_truck_classifier(test_img_address))"
      ],
      "execution_count": null,
      "outputs": [
        {
          "output_type": "stream",
          "text": [
            "it is a Car!\n"
          ],
          "name": "stdout"
        }
      ]
    },
    {
      "cell_type": "code",
      "metadata": {
        "id": "3zT2s4N-I5mc"
      },
      "source": [],
      "execution_count": null,
      "outputs": []
    }
  ]
}